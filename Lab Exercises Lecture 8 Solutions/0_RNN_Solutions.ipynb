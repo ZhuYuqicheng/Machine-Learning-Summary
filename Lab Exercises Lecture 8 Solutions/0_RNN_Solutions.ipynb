{
 "cells": [
  {
   "cell_type": "markdown",
   "metadata": {},
   "source": [
    "# Recurrent Neural Networks: RNN and LSTM"
   ]
  },
  {
   "cell_type": "markdown",
   "metadata": {},
   "source": [
    "### A first Recurrent Neural Network layer"
   ]
  },
  {
   "cell_type": "markdown",
   "metadata": {},
   "source": [
    "`SimpleRNN` processes batches of sequences, like all other Keras layers. This means that it takes inputs of shape `(batch_size, timesteps, input_features)`, rather than `(timesteps, input_features)`.\n"
   ]
  },
  {
   "cell_type": "markdown",
   "metadata": {},
   "source": [
    "**As first thing, from Keras import `SimpleRNN` and `Embedding`.**\n",
    "\n",
    "*Note*: use a numpy version different from 1.20.1 [Here why](https://stackoverflow.com/questions/58479556/notimplementederror-cannot-convert-a-symbolic-tensor-2nd-target0-to-a-numpy/58678385#58678385)"
   ]
  },
  {
   "cell_type": "code",
   "execution_count": 1,
   "metadata": {},
   "outputs": [],
   "source": [
    "from keras.layers import Embedding, SimpleRNN"
   ]
  },
  {
   "cell_type": "markdown",
   "metadata": {},
   "source": [
    "Create the first simple following network:\n",
    "- A first `Embedding` layer of input dimension 10000 and output dimension 32;\n",
    "- A `SimpleRNN` (Fully-connected RNN, where the output is to be fed back to input) with 32 hidden units;"
   ]
  },
  {
   "cell_type": "markdown",
   "metadata": {},
   "source": [
    "**Build a sequential model as described above and check for a summary of it.**"
   ]
  },
  {
   "cell_type": "code",
   "execution_count": 2,
   "metadata": {},
   "outputs": [
    {
     "name": "stdout",
     "output_type": "stream",
     "text": [
      "Model: \"sequential\"\n",
      "_________________________________________________________________\n",
      "Layer (type)                 Output Shape              Param #   \n",
      "=================================================================\n",
      "embedding (Embedding)        (None, None, 32)          320000    \n",
      "_________________________________________________________________\n",
      "simple_rnn (SimpleRNN)       (None, 32)                2080      \n",
      "=================================================================\n",
      "Total params: 322,080\n",
      "Trainable params: 322,080\n",
      "Non-trainable params: 0\n",
      "_________________________________________________________________\n"
     ]
    }
   ],
   "source": [
    "from keras.models import Sequential\n",
    "\n",
    "model = Sequential()\n",
    "model.add(Embedding(10000, 32))\n",
    "model.add(SimpleRNN(32)) #  a fully-connected RNN where the output from previous timestep is to be fed to next timestep.\n",
    "\n",
    "\n",
    "#print summary\n",
    "model.summary()"
   ]
  },
  {
   "cell_type": "markdown",
   "metadata": {},
   "source": [
    "*Note:* Here it is important to understand the output shape and number of parameters each layer has"
   ]
  },
  {
   "cell_type": "markdown",
   "metadata": {},
   "source": [
    "Like all recurrent layers in Keras, SimpleRNN can be run in two different modes: it can return either the full sequences of successive outputs for each timestep (a 3D tensor of shape `(batch_size, timesteps, output_features)`), or it can return only the output corresponding to the last timestep for each input sequence (a 2D tensor of shape `(batch_size, output_features)`). These two modes are controlled by the `return_sequences` constructor argument. "
   ]
  },
  {
   "cell_type": "markdown",
   "metadata": {},
   "source": [
    "**Add the `return_sequences` constructure argument. Check the [documentation](https://keras.io/api/layers/recurrent_layers/simple_rnn/) to better understand how it works.**"
   ]
  },
  {
   "cell_type": "code",
   "execution_count": 3,
   "metadata": {},
   "outputs": [
    {
     "name": "stdout",
     "output_type": "stream",
     "text": [
      "Model: \"sequential_1\"\n",
      "_________________________________________________________________\n",
      "Layer (type)                 Output Shape              Param #   \n",
      "=================================================================\n",
      "embedding_1 (Embedding)      (None, None, 32)          320000    \n",
      "_________________________________________________________________\n",
      "simple_rnn_1 (SimpleRNN)     (None, None, 32)          2080      \n",
      "=================================================================\n",
      "Total params: 322,080\n",
      "Trainable params: 322,080\n",
      "Non-trainable params: 0\n",
      "_________________________________________________________________\n"
     ]
    }
   ],
   "source": [
    "model = Sequential()\n",
    "model.add(Embedding(10000, 32))\n",
    "model.add(SimpleRNN(32, return_sequences=True))\n",
    "\n",
    "model.summary()"
   ]
  },
  {
   "cell_type": "markdown",
   "metadata": {},
   "source": [
    "*Note:* Here it is important to understand the output shape and number of parameters each layer has"
   ]
  },
  {
   "cell_type": "markdown",
   "metadata": {},
   "source": [
    "It is sometimes useful to stack several recurrent layers one after the other in order to increase the representational power of a network. In such a setup, you have to get all intermediate layers to return full sequences."
   ]
  },
  {
   "cell_type": "markdown",
   "metadata": {},
   "source": [
    "**Add 3 others intermediate layer of 32 hidden units each. Get a summary of the network.**"
   ]
  },
  {
   "cell_type": "code",
   "execution_count": 4,
   "metadata": {},
   "outputs": [
    {
     "name": "stdout",
     "output_type": "stream",
     "text": [
      "Model: \"sequential_2\"\n",
      "_________________________________________________________________\n",
      "Layer (type)                 Output Shape              Param #   \n",
      "=================================================================\n",
      "embedding_2 (Embedding)      (None, None, 32)          320000    \n",
      "_________________________________________________________________\n",
      "simple_rnn_2 (SimpleRNN)     (None, None, 32)          2080      \n",
      "_________________________________________________________________\n",
      "simple_rnn_3 (SimpleRNN)     (None, None, 32)          2080      \n",
      "_________________________________________________________________\n",
      "simple_rnn_4 (SimpleRNN)     (None, None, 32)          2080      \n",
      "_________________________________________________________________\n",
      "simple_rnn_5 (SimpleRNN)     (None, 32)                2080      \n",
      "=================================================================\n",
      "Total params: 328,320\n",
      "Trainable params: 328,320\n",
      "Non-trainable params: 0\n",
      "_________________________________________________________________\n"
     ]
    }
   ],
   "source": [
    "model = Sequential()\n",
    "model.add(Embedding(10000, 32))\n",
    "model.add(SimpleRNN(32, return_sequences=True))\n",
    "model.add(SimpleRNN(32, return_sequences=True))\n",
    "model.add(SimpleRNN(32, return_sequences=True))\n",
    "model.add(SimpleRNN(32))  # This last layer only returns the last outputs.\n",
    "\n",
    "model.summary()"
   ]
  },
  {
   "cell_type": "markdown",
   "metadata": {},
   "source": [
    "*Note:* Here it is important to understand the output shape and number of parameters each layer has"
   ]
  },
  {
   "cell_type": "markdown",
   "metadata": {},
   "source": [
    "### Dataset and Data Preprocessing"
   ]
  },
  {
   "cell_type": "markdown",
   "metadata": {},
   "source": [
    "Now let's try to use such a model on the IMDB movie review classification problem. First, we have to preprocess the data. To that end, we load the data and pad the train and test datasets. \n",
    "\n",
    "We use the function `pad_sequence` to transform a list of sequences (input_train/input_test) into a 2D Numpy array of shape (num_samples, maxlen). Please refer to the documentation [documentation](https://www.tensorflow.org/api_docs/python/tf/keras/preprocessing/sequence/pad_sequences)"
   ]
  },
  {
   "cell_type": "code",
   "execution_count": 5,
   "metadata": {},
   "outputs": [
    {
     "name": "stdout",
     "output_type": "stream",
     "text": [
      "Loading data...\n"
     ]
    },
    {
     "name": "stderr",
     "output_type": "stream",
     "text": [
      "<__array_function__ internals>:5: VisibleDeprecationWarning: Creating an ndarray from ragged nested sequences (which is a list-or-tuple of lists-or-tuples-or ndarrays with different lengths or shapes) is deprecated. If you meant to do this, you must specify 'dtype=object' when creating the ndarray\n",
      "C:\\Users\\sanchezloper\\Anaconda3_new\\lib\\site-packages\\tensorflow\\python\\keras\\datasets\\imdb.py:159: VisibleDeprecationWarning: Creating an ndarray from ragged nested sequences (which is a list-or-tuple of lists-or-tuples-or ndarrays with different lengths or shapes) is deprecated. If you meant to do this, you must specify 'dtype=object' when creating the ndarray\n",
      "  x_train, y_train = np.array(xs[:idx]), np.array(labels[:idx])\n",
      "C:\\Users\\sanchezloper\\Anaconda3_new\\lib\\site-packages\\tensorflow\\python\\keras\\datasets\\imdb.py:160: VisibleDeprecationWarning: Creating an ndarray from ragged nested sequences (which is a list-or-tuple of lists-or-tuples-or ndarrays with different lengths or shapes) is deprecated. If you meant to do this, you must specify 'dtype=object' when creating the ndarray\n",
      "  x_test, y_test = np.array(xs[idx:]), np.array(labels[idx:])\n"
     ]
    },
    {
     "name": "stdout",
     "output_type": "stream",
     "text": [
      "25000 train sequences\n",
      "25000 test sequences\n",
      "\n",
      "First sequence length in input_train: \n",
      " 218\n",
      "\n",
      "First sequence length in input_test: \n",
      " 68\n",
      "\n",
      "Pad sequences (samples x time_step)\n",
      "\n",
      "First padded sequence length in input_train: \n",
      " 500\n",
      "\n",
      "First padded sequence length in input_test: \n",
      " 500\n"
     ]
    }
   ],
   "source": [
    "import numpy as np\n",
    "from keras.datasets import imdb\n",
    "from keras.preprocessing import sequence\n",
    "\n",
    "max_features = 10000  # number of words to consider as features\n",
    "maxlen = 500  # cut texts after this number of words (among top max_features most common words)\n",
    "batch_size = 32\n",
    "\n",
    "print('Loading data...')\n",
    "(input_train, y_train), (input_test, y_test) = imdb.load_data(num_words=max_features)\n",
    "print(len(input_train), 'train sequences')\n",
    "print(len(input_test), 'test sequences')\n",
    "\n",
    "#each sequence is a list of integers\n",
    "print(\"\\nFirst sequence length in input_train: \\n\", len(input_train[0]))\n",
    "#print(\"\\nFirst sequence in input_train: \\n\", input_train[0])\n",
    "\n",
    "print(\"\\nFirst sequence length in input_test: \\n\", len(input_test[0]))\n",
    "#print(\"\\nFirst sequence in input_test: \\n\", input_test[0])\n",
    "\n",
    "print('\\nPad sequences (samples x time_step)')\n",
    "input_train = sequence.pad_sequences(input_train, maxlen=maxlen)\n",
    "input_test = sequence.pad_sequences(input_test, maxlen=maxlen)\n",
    "\n",
    "#each padded sequence is now a list padded with maxlen-len(input_train[0]) zeros \n",
    "print(\"\\nFirst padded sequence length in input_train: \\n\", len(input_train[0]))\n",
    "#print(\"\\nFirst padded sequence in input_train: \\n\", input_train[0])\n",
    "print(\"\\nFirst padded sequence length in input_test: \\n\", len(input_test[0]))\n",
    "#print(\"\\nFirst padded sequence in input_test: \\n\", input_test[0])"
   ]
  },
  {
   "cell_type": "markdown",
   "metadata": {},
   "source": [
    "**Check the dimension/shape of train data and test data.**"
   ]
  },
  {
   "cell_type": "code",
   "execution_count": 6,
   "metadata": {},
   "outputs": [
    {
     "name": "stdout",
     "output_type": "stream",
     "text": [
      "input_train shape: (25000, 500)\n",
      "input_test shape: (25000, 500)\n"
     ]
    }
   ],
   "source": [
    "print('input_train shape:', input_train.shape)\n",
    "print('input_test shape:', input_test.shape)"
   ]
  },
  {
   "cell_type": "markdown",
   "metadata": {},
   "source": [
    "Let's train a simple recurrent network using:\n",
    "- an `Embedding` layer of input size equal to max_features and output equal to 32;\n",
    "- a `SimpleRNN` layer;"
   ]
  },
  {
   "cell_type": "markdown",
   "metadata": {},
   "source": [
    "**Build the network as described above.**"
   ]
  },
  {
   "cell_type": "code",
   "execution_count": 7,
   "metadata": {},
   "outputs": [],
   "source": [
    "from keras.layers import Dense\n",
    "\n",
    "model = Sequential()\n",
    "model.add(Embedding(max_features, 32))\n",
    "model.add(SimpleRNN(32))\n",
    "model.add(Dense(1, activation='sigmoid'))"
   ]
  },
  {
   "cell_type": "markdown",
   "metadata": {},
   "source": [
    "**Compile the model with `rmsprop` optimizer and `binary_crossentropy` loss.**\n",
    "\n",
    "Remember that the task is a binary classification problem. We want to classify the movie reviews into positive or negative reviews"
   ]
  },
  {
   "cell_type": "code",
   "execution_count": 8,
   "metadata": {},
   "outputs": [],
   "source": [
    "model.compile(optimizer='rmsprop', loss='binary_crossentropy', metrics=['acc'])"
   ]
  },
  {
   "cell_type": "markdown",
   "metadata": {},
   "source": [
    "**Fit the model, consider 10 epochs, batch size 128 and validation split equal to 0.2.**"
   ]
  },
  {
   "cell_type": "code",
   "execution_count": 9,
   "metadata": {},
   "outputs": [
    {
     "name": "stdout",
     "output_type": "stream",
     "text": [
      "Epoch 1/10\n",
      "157/157 [==============================] - 20s 127ms/step - loss: 0.6160 - acc: 0.6485 - val_loss: 0.4868 - val_acc: 0.7758\n",
      "Epoch 2/10\n",
      "157/157 [==============================] - 23s 144ms/step - loss: 0.3934 - acc: 0.8332 - val_loss: 0.3686 - val_acc: 0.8436\n",
      "Epoch 3/10\n",
      "157/157 [==============================] - 20s 129ms/step - loss: 0.3053 - acc: 0.8781 - val_loss: 0.4082 - val_acc: 0.8230\n",
      "Epoch 4/10\n",
      "157/157 [==============================] - 20s 128ms/step - loss: 0.2229 - acc: 0.9151 - val_loss: 0.3794 - val_acc: 0.8390\n",
      "Epoch 5/10\n",
      "157/157 [==============================] - 21s 133ms/step - loss: 0.1457 - acc: 0.9472 - val_loss: 0.4563 - val_acc: 0.8450\n",
      "Epoch 6/10\n",
      "157/157 [==============================] - 20s 126ms/step - loss: 0.0931 - acc: 0.9690 - val_loss: 0.4092 - val_acc: 0.8492\n",
      "Epoch 7/10\n",
      "157/157 [==============================] - 19s 123ms/step - loss: 0.0626 - acc: 0.9801 - val_loss: 0.4844 - val_acc: 0.8532\n",
      "Epoch 8/10\n",
      "157/157 [==============================] - 19s 120ms/step - loss: 0.0388 - acc: 0.9889 - val_loss: 0.6516 - val_acc: 0.7794\n",
      "Epoch 9/10\n",
      "157/157 [==============================] - 20s 127ms/step - loss: 0.0257 - acc: 0.9923 - val_loss: 0.6065 - val_acc: 0.8118\n",
      "Epoch 10/10\n",
      "157/157 [==============================] - 25s 162ms/step - loss: 0.0239 - acc: 0.9932 - val_loss: 0.6612 - val_acc: 0.8142\n"
     ]
    }
   ],
   "source": [
    "history = model.fit(input_train, y_train,\n",
    "                    epochs=10,\n",
    "                    batch_size=128,\n",
    "                    validation_split=0.2)"
   ]
  },
  {
   "cell_type": "markdown",
   "metadata": {},
   "source": [
    "Let's display the training and validation loss and accuracy:"
   ]
  },
  {
   "cell_type": "markdown",
   "metadata": {},
   "source": [
    "**Fill in the #DO TOs to complete the plotting.**"
   ]
  },
  {
   "cell_type": "code",
   "execution_count": 10,
   "metadata": {},
   "outputs": [
    {
     "data": {
      "image/png": "[encoded data removed]",
      "text/plain": [
       "<Figure size 432x288 with 1 Axes>"
      ]
     },
     "metadata": {
      "needs_background": "light"
     },
     "output_type": "display_data"
    },
    {
     "data": {
      "image/png": "[encoded data removed]",
      "text/plain": [
       "<Figure size 432x288 with 1 Axes>"
      ]
     },
     "metadata": {
      "needs_background": "light"
     },
     "output_type": "display_data"
    }
   ],
   "source": [
    "import matplotlib.pyplot as plt\n",
    "\n",
    "\n",
    "acc = history.history['acc'] #TO DO: training accuracy\n",
    "val_acc = history.history['val_acc'] #TO DO: validation accuracy\n",
    "loss = history.history['loss'] #TO DO: training loss\n",
    "val_loss = history.history['val_loss'] #TO DO: validation loss\n",
    "\n",
    "epochs = range(len(acc))\n",
    "\n",
    "# Accuracy\n",
    "plt.plot(epochs, acc, 'bo', label='Training acc') #TO DO: training accuracy\n",
    "plt.plot(epochs, val_acc, 'b', label='Validation acc') #TO DO: validation accuracy\n",
    "plt.title('Training and validation accuracy')\n",
    "plt.legend()\n",
    "\n",
    "plt.figure()\n",
    "\n",
    "# Loss\n",
    "plt.plot(epochs, loss, 'bo', label='Training loss') #TO DO: training loss\n",
    "plt.plot(epochs, val_loss, 'b', label='Validation loss') #TO DO: validation loss\n",
    "plt.title('Training and validation loss')\n",
    "plt.legend()\n",
    "\n",
    "plt.show()"
   ]
  },
  {
   "cell_type": "markdown",
   "metadata": {},
   "source": [
    "## LSTM Example"
   ]
  },
  {
   "cell_type": "markdown",
   "metadata": {},
   "source": [
    "From the lecture, we know that vanilla RNNs are simple but nor powerful.\n",
    "The backward flow of gradients in RNN can explode or vanish. Thus, a more practical solution is to use LSTMs.\n",
    "\n",
    "We will set up a model using a LSTM layer and train it on the IMDB data. Here's the network, similar to the one with SimpleRNN that we just presented. We only specify the output dimensionality of the LSTM layer, and leave every other argument (there are lots) to the Keras defaults. Keras has good defaults, and things will almost always \"just work\" without you having to spend time tuning parameters by hand.If you are curious, see the documentation [here](https://keras.io/api/layers/recurrent_layers/lstm/)"
   ]
  },
  {
   "cell_type": "markdown",
   "metadata": {},
   "source": [
    "**Consider the network you have implemented above, import and add an `LSTM` layer.**"
   ]
  },
  {
   "cell_type": "code",
   "execution_count": 11,
   "metadata": {},
   "outputs": [],
   "source": [
    "from keras.layers import LSTM\n",
    "\n",
    "model = Sequential()\n",
    "model.add(Embedding(max_features, 32))\n",
    "model.add(LSTM(32))\n",
    "model.add(Dense(1, activation='sigmoid'))"
   ]
  },
  {
   "cell_type": "markdown",
   "metadata": {},
   "source": [
    "**Print model summary**"
   ]
  },
  {
   "cell_type": "code",
   "execution_count": 12,
   "metadata": {},
   "outputs": [
    {
     "name": "stdout",
     "output_type": "stream",
     "text": [
      "Model: \"sequential_4\"\n",
      "_________________________________________________________________\n",
      "Layer (type)                 Output Shape              Param #   \n",
      "=================================================================\n",
      "embedding_4 (Embedding)      (None, None, 32)          320000    \n",
      "_________________________________________________________________\n",
      "lstm (LSTM)                  (None, 32)                8320      \n",
      "_________________________________________________________________\n",
      "dense_1 (Dense)              (None, 1)                 33        \n",
      "=================================================================\n",
      "Total params: 328,353\n",
      "Trainable params: 328,353\n",
      "Non-trainable params: 0\n",
      "_________________________________________________________________\n"
     ]
    }
   ],
   "source": [
    "model.summary()"
   ]
  },
  {
   "cell_type": "markdown",
   "metadata": {},
   "source": [
    "*Note:* Here it is important to understand the output shape and number of parameters each layer has"
   ]
  },
  {
   "cell_type": "markdown",
   "metadata": {},
   "source": [
    "**Compile the model with `rmsprop` optimizer and `binary_crossentropy` loss.**"
   ]
  },
  {
   "cell_type": "code",
   "execution_count": 13,
   "metadata": {},
   "outputs": [],
   "source": [
    "model.compile(optimizer='rmsprop',\n",
    "              loss='binary_crossentropy',\n",
    "              metrics=['acc'])"
   ]
  },
  {
   "cell_type": "markdown",
   "metadata": {},
   "source": [
    "**Fit the model as before.**"
   ]
  },
  {
   "cell_type": "code",
   "execution_count": 14,
   "metadata": {},
   "outputs": [
    {
     "name": "stdout",
     "output_type": "stream",
     "text": [
      "Epoch 1/10\n",
      "157/157 [==============================] - 49s 313ms/step - loss: 0.4978 - acc: 0.7637 - val_loss: 0.3523 - val_acc: 0.8626\n",
      "Epoch 2/10\n",
      "157/157 [==============================] - 45s 289ms/step - loss: 0.2856 - acc: 0.8887 - val_loss: 0.2930 - val_acc: 0.8782\n",
      "Epoch 3/10\n",
      "157/157 [==============================] - 46s 291ms/step - loss: 0.2292 - acc: 0.9147 - val_loss: 0.3528 - val_acc: 0.8466\n",
      "Epoch 4/10\n",
      "157/157 [==============================] - 47s 301ms/step - loss: 0.1983 - acc: 0.9283 - val_loss: 0.2913 - val_acc: 0.8780\n",
      "Epoch 5/10\n",
      "157/157 [==============================] - 45s 284ms/step - loss: 0.1760 - acc: 0.9361 - val_loss: 0.3250 - val_acc: 0.8900\n",
      "Epoch 6/10\n",
      "157/157 [==============================] - 47s 296ms/step - loss: 0.1551 - acc: 0.9442 - val_loss: 0.3854 - val_acc: 0.8530\n",
      "Epoch 7/10\n",
      "157/157 [==============================] - 48s 303ms/step - loss: 0.1415 - acc: 0.9502 - val_loss: 0.3308 - val_acc: 0.8890\n",
      "Epoch 8/10\n",
      "157/157 [==============================] - 46s 292ms/step - loss: 0.1316 - acc: 0.9538 - val_loss: 0.3921 - val_acc: 0.8828\n",
      "Epoch 9/10\n",
      "157/157 [==============================] - 47s 300ms/step - loss: 0.1204 - acc: 0.9590 - val_loss: 0.4432 - val_acc: 0.8710\n",
      "Epoch 10/10\n",
      "157/157 [==============================] - 49s 311ms/step - loss: 0.1072 - acc: 0.9621 - val_loss: 0.4996 - val_acc: 0.8664\n"
     ]
    }
   ],
   "source": [
    "history = model.fit(input_train, y_train,\n",
    "                    epochs=10,\n",
    "                    batch_size=128,\n",
    "                    validation_split=0.2)"
   ]
  },
  {
   "cell_type": "markdown",
   "metadata": {},
   "source": [
    "Let's display the training and validation loss and accuracy:"
   ]
  },
  {
   "cell_type": "markdown",
   "metadata": {},
   "source": [
    "**Fill in the #DO TOs to complete the plotting.**"
   ]
  },
  {
   "cell_type": "code",
   "execution_count": 15,
   "metadata": {},
   "outputs": [
    {
     "data": {
      "image/png": "[encoded data removed]",
      "text/plain": [
       "<Figure size 432x288 with 1 Axes>"
      ]
     },
     "metadata": {
      "needs_background": "light"
     },
     "output_type": "display_data"
    },
    {
     "data": {
      "image/png": "[encoded data removed]",
      "text/plain": [
       "<Figure size 432x288 with 1 Axes>"
      ]
     },
     "metadata": {
      "needs_background": "light"
     },
     "output_type": "display_data"
    }
   ],
   "source": [
    "acc = history.history['acc'] #TO DO: training accuracy\n",
    "val_acc = history.history['val_acc'] #TO DO: validation accuracy\n",
    "loss = history.history['loss'] #TO DO: training loss\n",
    "val_loss = history.history['val_loss'] #TO DO: validation loss\n",
    "\n",
    "# Accuracy\n",
    "epochs = range(len(acc))\n",
    "plt.plot(epochs, acc, 'bo', label='Training acc') #TO DO: training accuracy\n",
    "plt.plot(epochs, val_acc, 'b', label='Validation acc') #TO DO\n",
    "plt.title('Training and validation accuracy')\n",
    "plt.legend()\n",
    "\n",
    "plt.figure()\n",
    "\n",
    "# Loss\n",
    "plt.plot(epochs, loss, 'bo', label='Training loss')\n",
    "plt.plot(epochs, val_loss, 'b', label='Validation loss')\n",
    "plt.title('Training and validation loss')\n",
    "plt.legend()\n",
    "\n",
    "plt.show()"
   ]
  },
  {
   "cell_type": "code",
   "execution_count": null,
   "metadata": {},
   "outputs": [],
   "source": []
  }
 ],
 "metadata": {
  "kernelspec": {
   "display_name": "Python 3",
   "language": "python",
   "name": "python3"
  },
  "language_info": {
   "codemirror_mode": {
    "name": "ipython",
    "version": 3
   },
   "file_extension": ".py",
   "mimetype": "text/x-python",
   "name": "python",
   "nbconvert_exporter": "python",
   "pygments_lexer": "ipython3",
   "version": "3.8.8"
  }
 },
 "nbformat": 4,
 "nbformat_minor": 2
}
