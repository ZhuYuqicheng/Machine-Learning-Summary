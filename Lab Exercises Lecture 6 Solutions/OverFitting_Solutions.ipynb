{
 "cells": [
  {
   "cell_type": "markdown",
   "metadata": {},
   "source": [
    "# Overfitting and Regularization"
   ]
  },
  {
   "cell_type": "markdown",
   "metadata": {},
   "source": [
    "The fundamental issue in machine learning is the tension between optimization and generalization. \"Optimization\" refers to the process of adjusting a model to get the best performance possible on the training data, while \"generalization\" refers to how well the trained model would perform on data it has never seen before. The goal of the game is to get good generalization, of course, but you do not control generalization; you can only adjust the model based on its training data.\n",
    "\n",
    "At the beginning of training, optimization and generalization are correlated: the lower your loss on training data, the lower your loss on test data. While this is happening, your model is said to be under-fit: there is still progress to be made; the network hasn't yet modeled all relevant patterns in the training data. But after a certain number of iterations on the training data, generalization stops improving, validation metrics stall then start degrading: the model is then starting to over-fit, i.e. is it starting to learn patterns that are specific to the training data but that are misleading or irrelevant when it comes to new data.\n",
    "\n",
    "To prevent a model from learning misleading or irrelevant patterns found in the training data, the best solution is of course to get more training data. A model trained on more data will naturally generalize better. When that is no longer possible, the next best solution is to modulate the quantity of information that your model is allowed to store, or to add constraints on what information it is allowed to store. If a network can only afford to memorize a small number of patterns, the optimization process will force it to focus on the most prominent patterns, which have a better chance of generalizing well.\n",
    "\n",
    "The processing of fighting overfitting in this way is called regularization. Let's review some of the most common regularization techniques, and let's apply them in practice to improve our movie classification model from the previous chapter.\n",
    "\n",
    "In this Notebook we will be using the IMDB Dataset to explore some of the possible techniques to deal with overfitting."
   ]
  },
  {
   "cell_type": "markdown",
   "metadata": {},
   "source": [
    "As first thing, we import Keras package:"
   ]
  },
  {
   "cell_type": "markdown",
   "metadata": {},
   "source": [
    "**Import Keras and check the version.**"
   ]
  },
  {
   "cell_type": "code",
   "execution_count": 86,
   "metadata": {},
   "outputs": [
    {
     "data": {
      "text/plain": [
       "'2.4.3'"
      ]
     },
     "execution_count": 86,
     "metadata": {},
     "output_type": "execute_result"
    }
   ],
   "source": [
    "import keras\n",
    "keras.__version__"
   ]
  },
  {
   "cell_type": "markdown",
   "metadata": {},
   "source": [
    "## Get the Data"
   ]
  },
  {
   "cell_type": "code",
   "execution_count": 87,
   "metadata": {},
   "outputs": [],
   "source": [
    "from keras.datasets import imdb\n",
    "import numpy as np\n",
    "\n",
    "(train_data, train_labels), (test_data, test_labels) = imdb.load_data(num_words=10000)\n",
    "\n",
    "def vectorize_sequences(sequences, dimension=10000):\n",
    "    # Create an all-zero matrix of shape (len(sequences), dimension)\n",
    "    results = np.zeros((len(sequences), dimension))\n",
    "    for i, sequence in enumerate(sequences):\n",
    "        results[i, sequence] = 1.  # set specific indices of results[i] to 1s\n",
    "    return results\n",
    "\n",
    "# Our vectorized training data\n",
    "x_train = vectorize_sequences(train_data)\n",
    "# Our vectorized test data\n",
    "x_test = vectorize_sequences(test_data)\n",
    "# Our vectorized labels\n",
    "y_train = np.array(train_labels).astype('float32')\n",
    "y_test = np.array(test_labels).astype('float32')"
   ]
  },
  {
   "cell_type": "markdown",
   "metadata": {},
   "source": [
    "## Overfitting\n",
    "### Reducing the Network's size"
   ]
  },
  {
   "cell_type": "markdown",
   "metadata": {},
   "source": [
    "The simplest way to prevent overfitting is to reduce the size of the model, i.e. the number of learnable parameters in the model (which is determined by the number of layers and the number of units per layer). In deep learning, the number of learnable parameters in a model is often referred to as the model's \"capacity\". Intuitively, a model with more parameters will have more \"memorization capacity\" and therefore will be able to easily learn a perfect dictionary-like mapping between training samples and their targets, a mapping without any generalization power. For instance, a model with 500,000 binary parameters could easily be made to learn the class of every digits in the MNIST training set: we would only need 10 binary parameters for each of the 50,000 digits. Such a model would be useless for classifying new digit samples. Always keep this in mind: deep learning models tend to be good at fitting to the training data, but the real challenge is generalization, not fitting.\n",
    "\n",
    "On the other hand, if the network has limited memorization resources, it will not be able to learn this mapping as easily, and thus, in order to minimize its loss, it will have to resort to learning compressed representations that have predictive power regarding the targets -- precisely the type of representations that we are interested in. At the same time, keep in mind that you should be using models that have enough parameters that they won't be underfitting: your model shouldn't be starved for memorization resources. There is a compromise to be found between \"too much capacity\" and \"not enough capacity\".\n",
    "\n",
    "Unfortunately, there is no magical formula to determine what the right number of layers is, or what the right size for each layer is. You will have to evaluate an array of different architectures (on your validation set, not on your test set, of course) in order to find the right model size for your data. The general workflow to find an appropriate model size is to start with relatively few layers and parameters, and start increasing the size of the layers or adding new layers until you see diminishing returns with regard to the validation loss.\n",
    "\n",
    "Let's try this on our movie review classification network. Our original network was as such:"
   ]
  },
  {
   "cell_type": "markdown",
   "metadata": {},
   "source": [
    "**Create the following network (call it `original_model`).**"
   ]
  },
  {
   "cell_type": "markdown",
   "metadata": {},
   "source": [
    "- Dense layer with 16 hidden units and an activation function;\n",
    "- Dense layer with 16 hidden units and an activation function;\n",
    "- Dense layer output with an activation function;"
   ]
  },
  {
   "cell_type": "code",
   "execution_count": 88,
   "metadata": {},
   "outputs": [],
   "source": [
    "from keras import models\n",
    "from keras import layers\n",
    "\n",
    "original_model = models.Sequential()\n",
    "original_model.add(layers.Dense(16, activation='relu', input_shape=(10000,)))\n",
    "original_model.add(layers.Dense(16, activation='relu'))\n",
    "original_model.add(layers.Dense(1, activation='sigmoid'))"
   ]
  },
  {
   "cell_type": "markdown",
   "metadata": {},
   "source": [
    "**Compile the model.**"
   ]
  },
  {
   "cell_type": "code",
   "execution_count": 89,
   "metadata": {},
   "outputs": [],
   "source": [
    "original_model.compile(optimizer='rmsprop',\n",
    "                       loss='binary_crossentropy',\n",
    "                       metrics=['acc'])"
   ]
  },
  {
   "cell_type": "markdown",
   "metadata": {},
   "source": [
    "**Now replace it with a smaller network (call it `smaller_model`), with less hidden units instead of 16 and compile it. Be sure to use the same optimizer and loss function of the `original_model`.**"
   ]
  },
  {
   "cell_type": "code",
   "execution_count": 90,
   "metadata": {},
   "outputs": [],
   "source": [
    "smaller_model = models.Sequential()\n",
    "smaller_model.add(layers.Dense(4, activation='relu', input_shape=(10000,)))\n",
    "smaller_model.add(layers.Dense(4, activation='relu'))\n",
    "smaller_model.add(layers.Dense(1, activation='sigmoid'))\n",
    "\n",
    "smaller_model.compile(optimizer='rmsprop',\n",
    "                      loss='binary_crossentropy',\n",
    "                      metrics=['acc'])"
   ]
  },
  {
   "cell_type": "markdown",
   "metadata": {},
   "source": [
    "**Fit the original model with 20 epochs and batch size 512. Use x_test and y_test for validation data.**\n",
    "\n",
    "*Note*: \n",
    "\n",
    "Here we use test data as validation data, as our goal is just to compare different techniques against overfitting. \n",
    "However, in practice we use validation data (~30% of the data from the training set).\n",
    "Test data are used for the final evaluation of the model's performance."
   ]
  },
  {
   "cell_type": "code",
   "execution_count": 91,
   "metadata": {},
   "outputs": [
    {
     "name": "stdout",
     "output_type": "stream",
     "text": [
      "Epoch 1/20\n",
      "49/49 [==============================] - 5s 74ms/step - loss: 0.5518 - acc: 0.7573 - val_loss: 0.3481 - val_acc: 0.8782\n",
      "Epoch 2/20\n",
      "49/49 [==============================] - 2s 37ms/step - loss: 0.2857 - acc: 0.9041 - val_loss: 0.2869 - val_acc: 0.8900\n",
      "Epoch 3/20\n",
      "49/49 [==============================] - 2s 36ms/step - loss: 0.2088 - acc: 0.9269 - val_loss: 0.2815 - val_acc: 0.8886\n",
      "Epoch 4/20\n",
      "49/49 [==============================] - 2s 38ms/step - loss: 0.1703 - acc: 0.9409 - val_loss: 0.2872 - val_acc: 0.8871\n",
      "Epoch 5/20\n",
      "49/49 [==============================] - 2s 40ms/step - loss: 0.1434 - acc: 0.9522 - val_loss: 0.3028 - val_acc: 0.8824\n",
      "Epoch 6/20\n",
      "49/49 [==============================] - 2s 36ms/step - loss: 0.1266 - acc: 0.9580 - val_loss: 0.3212 - val_acc: 0.8780\n",
      "Epoch 7/20\n",
      "49/49 [==============================] - 2s 33ms/step - loss: 0.1149 - acc: 0.9617 - val_loss: 0.3589 - val_acc: 0.8716\n",
      "Epoch 8/20\n",
      "49/49 [==============================] - 2s 33ms/step - loss: 0.1010 - acc: 0.9670 - val_loss: 0.3839 - val_acc: 0.8695\n",
      "Epoch 9/20\n",
      "49/49 [==============================] - 2s 34ms/step - loss: 0.0884 - acc: 0.9722 - val_loss: 0.3949 - val_acc: 0.8690\n",
      "Epoch 10/20\n",
      "49/49 [==============================] - 2s 37ms/step - loss: 0.0818 - acc: 0.9746 - val_loss: 0.4182 - val_acc: 0.8660\n",
      "Epoch 11/20\n",
      "49/49 [==============================] - 2s 35ms/step - loss: 0.0638 - acc: 0.9812 - val_loss: 0.4706 - val_acc: 0.8572\n",
      "Epoch 12/20\n",
      "49/49 [==============================] - 2s 33ms/step - loss: 0.0629 - acc: 0.9821 - val_loss: 0.4806 - val_acc: 0.8617\n",
      "Epoch 13/20\n",
      "49/49 [==============================] - 2s 34ms/step - loss: 0.0537 - acc: 0.9849 - val_loss: 0.5168 - val_acc: 0.8569\n",
      "Epoch 14/20\n",
      "49/49 [==============================] - 2s 33ms/step - loss: 0.0454 - acc: 0.9878 - val_loss: 0.5463 - val_acc: 0.8572\n",
      "Epoch 15/20\n",
      "49/49 [==============================] - 2s 33ms/step - loss: 0.0374 - acc: 0.9910 - val_loss: 0.5931 - val_acc: 0.8527\n",
      "Epoch 16/20\n",
      "49/49 [==============================] - 2s 33ms/step - loss: 0.0349 - acc: 0.9906 - val_loss: 0.6207 - val_acc: 0.8528\n",
      "Epoch 17/20\n",
      "49/49 [==============================] - 2s 35ms/step - loss: 0.0308 - acc: 0.9926 - val_loss: 0.6478 - val_acc: 0.8531\n",
      "Epoch 18/20\n",
      "49/49 [==============================] - 2s 33ms/step - loss: 0.0231 - acc: 0.9946 - val_loss: 0.6892 - val_acc: 0.8506\n",
      "Epoch 19/20\n",
      "49/49 [==============================] - 2s 35ms/step - loss: 0.0186 - acc: 0.9963 - val_loss: 0.7226 - val_acc: 0.8490\n",
      "Epoch 20/20\n",
      "49/49 [==============================] - 2s 34ms/step - loss: 0.0187 - acc: 0.9956 - val_loss: 0.7967 - val_acc: 0.8463\n"
     ]
    }
   ],
   "source": [
    "original_hist = original_model.fit(x_train, y_train,\n",
    "                                   epochs=20,\n",
    "                                   batch_size=512,\n",
    "                                   validation_data=(x_test,y_test))"
   ]
  },
  {
   "cell_type": "markdown",
   "metadata": {},
   "source": [
    "**Fit the smaller model with 20 epochs and batch size 512. Use x_test and y_test for validation data.**"
   ]
  },
  {
   "cell_type": "code",
   "execution_count": 92,
   "metadata": {},
   "outputs": [
    {
     "name": "stdout",
     "output_type": "stream",
     "text": [
      "Epoch 1/20\n",
      "49/49 [==============================] - 7s 127ms/step - loss: 0.5870 - acc: 0.7271 - val_loss: 0.4018 - val_acc: 0.8698\n",
      "Epoch 2/20\n",
      "49/49 [==============================] - 2s 32ms/step - loss: 0.3373 - acc: 0.8996 - val_loss: 0.3204 - val_acc: 0.8846\n",
      "Epoch 3/20\n",
      "49/49 [==============================] - 2s 31ms/step - loss: 0.2467 - acc: 0.9232 - val_loss: 0.2893 - val_acc: 0.8888\n",
      "Epoch 4/20\n",
      "49/49 [==============================] - 1s 31ms/step - loss: 0.2024 - acc: 0.9323 - val_loss: 0.2819 - val_acc: 0.8883\n",
      "Epoch 5/20\n",
      "49/49 [==============================] - 2s 33ms/step - loss: 0.1748 - acc: 0.9441 - val_loss: 0.2895 - val_acc: 0.8830\n",
      "Epoch 6/20\n",
      "49/49 [==============================] - 2s 38ms/step - loss: 0.1540 - acc: 0.9500 - val_loss: 0.2934 - val_acc: 0.8842\n",
      "Epoch 7/20\n",
      "49/49 [==============================] - 2s 34ms/step - loss: 0.1383 - acc: 0.9577 - val_loss: 0.3028 - val_acc: 0.8808\n",
      "Epoch 8/20\n",
      "49/49 [==============================] - 2s 31ms/step - loss: 0.1240 - acc: 0.9612 - val_loss: 0.3143 - val_acc: 0.8788\n",
      "Epoch 9/20\n",
      "49/49 [==============================] - 1s 30ms/step - loss: 0.1134 - acc: 0.9648 - val_loss: 0.3296 - val_acc: 0.8760\n",
      "Epoch 10/20\n",
      "49/49 [==============================] - 2s 32ms/step - loss: 0.1035 - acc: 0.9683 - val_loss: 0.3487 - val_acc: 0.8716\n",
      "Epoch 11/20\n",
      "49/49 [==============================] - 1s 30ms/step - loss: 0.0945 - acc: 0.9725 - val_loss: 0.3588 - val_acc: 0.8720\n",
      "Epoch 12/20\n",
      "49/49 [==============================] - 2s 32ms/step - loss: 0.0880 - acc: 0.9740 - val_loss: 0.3760 - val_acc: 0.8705\n",
      "Epoch 13/20\n",
      "49/49 [==============================] - 2s 32ms/step - loss: 0.0812 - acc: 0.9751 - val_loss: 0.3982 - val_acc: 0.8675\n",
      "Epoch 14/20\n",
      "49/49 [==============================] - 2s 34ms/step - loss: 0.0741 - acc: 0.9780 - val_loss: 0.4120 - val_acc: 0.8664\n",
      "Epoch 15/20\n",
      "49/49 [==============================] - 1s 31ms/step - loss: 0.0699 - acc: 0.9806 - val_loss: 0.4493 - val_acc: 0.8574\n",
      "Epoch 16/20\n",
      "49/49 [==============================] - 2s 32ms/step - loss: 0.0635 - acc: 0.9834 - val_loss: 0.4584 - val_acc: 0.8606\n",
      "Epoch 17/20\n",
      "49/49 [==============================] - 2s 34ms/step - loss: 0.0586 - acc: 0.9847 - val_loss: 0.4740 - val_acc: 0.8608\n",
      "Epoch 18/20\n",
      "49/49 [==============================] - 2s 32ms/step - loss: 0.0522 - acc: 0.9875 - val_loss: 0.4951 - val_acc: 0.8568\n",
      "Epoch 19/20\n",
      "49/49 [==============================] - 2s 34ms/step - loss: 0.0513 - acc: 0.9874 - val_loss: 0.5157 - val_acc: 0.8586\n",
      "Epoch 20/20\n",
      "49/49 [==============================] - 2s 32ms/step - loss: 0.0456 - acc: 0.9891 - val_loss: 0.5365 - val_acc: 0.8568\n"
     ]
    }
   ],
   "source": [
    "smaller_model_hist = smaller_model.fit(x_train, y_train,\n",
    "                                       epochs=20,\n",
    "                                       batch_size=512,\n",
    "                                       validation_data=(x_test,y_test))"
   ]
  },
  {
   "cell_type": "markdown",
   "metadata": {},
   "source": [
    "**Compare the smaller model with the original one. Fill in the #TO DOs.**"
   ]
  },
  {
   "cell_type": "code",
   "execution_count": 93,
   "metadata": {},
   "outputs": [],
   "source": [
    "epochs = range(1, 21)\n",
    "original_val_loss = original_hist.history['val_loss'] # TO DO: take from the history dictionary of the original model the validation loss\n",
    "smaller_model_val_loss = smaller_model_hist.history['val_loss'] # TO DO: take from the history dictionary of the smaller model the validation loss"
   ]
  },
  {
   "cell_type": "code",
   "execution_count": 94,
   "metadata": {},
   "outputs": [
    {
     "data": {
      "image/png": "[encoded data removed]",
      "text/plain": [
       "<Figure size 432x288 with 1 Axes>"
      ]
     },
     "metadata": {
      "needs_background": "light"
     },
     "output_type": "display_data"
    }
   ],
   "source": [
    "import matplotlib.pyplot as plt\n",
    "\n",
    "# b+ is for \"blue cross\"\n",
    "plt.plot(epochs, original_val_loss, 'b+', label='Original model') # TO DO: use the original model validation loss\n",
    "# \"bo\" is for \"blue dot\"\n",
    "plt.plot(epochs, smaller_model_val_loss, 'bo', label='Smaller model') # TO DO: use the smaller model validation loss\n",
    "plt.xlabel('Epochs')\n",
    "plt.ylabel('Validation loss')\n",
    "plt.legend()\n",
    "\n",
    "plt.show()"
   ]
  },
  {
   "cell_type": "markdown",
   "metadata": {},
   "source": [
    "Here's a comparison of the validation losses of the original network and the smaller network. The dots are the validation loss values of the smaller network, and the crosses are the initial network."
   ]
  },
  {
   "cell_type": "markdown",
   "metadata": {},
   "source": [
    "**Considerations: what can you conclude from these results? Which of the two network starts to overfitting later? How are their performances?**"
   ]
  },
  {
   "cell_type": "markdown",
   "metadata": {},
   "source": [
    "As you can see, the smaller network starts overfitting later than the reference one (after 6 epochs rather than 4) and its performance degrades much more slowly once it starts overfitting."
   ]
  },
  {
   "cell_type": "markdown",
   "metadata": {},
   "source": [
    "Now, let's add to this benchmark a network that has much more capacity (far more than the problem would warrant)."
   ]
  },
  {
   "cell_type": "markdown",
   "metadata": {},
   "source": [
    "**Create a bigger network with moe than 16 hidden units (call it `bigger_model`) and compile it.**"
   ]
  },
  {
   "cell_type": "code",
   "execution_count": 95,
   "metadata": {},
   "outputs": [],
   "source": [
    "bigger_model = models.Sequential()\n",
    "bigger_model.add(layers.Dense(512, activation='relu', input_shape=(10000,)))\n",
    "bigger_model.add(layers.Dense(512, activation='relu'))\n",
    "bigger_model.add(layers.Dense(1, activation='sigmoid'))\n",
    "\n",
    "bigger_model.compile(optimizer='rmsprop',\n",
    "                     loss='binary_crossentropy',\n",
    "                     metrics=['acc'])"
   ]
  },
  {
   "cell_type": "markdown",
   "metadata": {},
   "source": [
    "**Fit the model with 20 epochs and batch of size 512.**"
   ]
  },
  {
   "cell_type": "code",
   "execution_count": 96,
   "metadata": {},
   "outputs": [
    {
     "name": "stdout",
     "output_type": "stream",
     "text": [
      "Epoch 1/20\n",
      "49/49 [==============================] - 23s 440ms/step - loss: 0.6020 - acc: 0.7084 - val_loss: 0.2874 - val_acc: 0.8840\n",
      "Epoch 2/20\n",
      "49/49 [==============================] - 11s 227ms/step - loss: 0.2304 - acc: 0.9062 - val_loss: 0.2745 - val_acc: 0.8879\n",
      "Epoch 3/20\n",
      "49/49 [==============================] - 11s 218ms/step - loss: 0.1332 - acc: 0.9522 - val_loss: 0.4523 - val_acc: 0.8466\n",
      "Epoch 4/20\n",
      "49/49 [==============================] - 10s 210ms/step - loss: 0.0658 - acc: 0.9797 - val_loss: 0.8460 - val_acc: 0.7800\n",
      "Epoch 5/20\n",
      "49/49 [==============================] - 11s 221ms/step - loss: 0.0439 - acc: 0.9882 - val_loss: 0.4259 - val_acc: 0.8810\n",
      "Epoch 6/20\n",
      "49/49 [==============================] - 11s 223ms/step - loss: 0.0047 - acc: 0.9995 - val_loss: 0.7409 - val_acc: 0.8734\n",
      "Epoch 7/20\n",
      "49/49 [==============================] - 11s 234ms/step - loss: 0.0281 - acc: 0.9978 - val_loss: 0.5954 - val_acc: 0.8774\n",
      "Epoch 8/20\n",
      "49/49 [==============================] - 13s 263ms/step - loss: 4.6242e-04 - acc: 1.0000 - val_loss: 0.7576 - val_acc: 0.8792\n",
      "Epoch 9/20\n",
      "49/49 [==============================] - 13s 262ms/step - loss: 8.9141e-05 - acc: 1.0000 - val_loss: 0.9466 - val_acc: 0.8791\n",
      "Epoch 10/20\n",
      "49/49 [==============================] - 11s 228ms/step - loss: 1.1810e-05 - acc: 1.0000 - val_loss: 1.1100 - val_acc: 0.8773\n",
      "Epoch 11/20\n",
      "49/49 [==============================] - 12s 239ms/step - loss: 1.3631e-06 - acc: 1.0000 - val_loss: 1.2710 - val_acc: 0.8777\n",
      "Epoch 12/20\n",
      "49/49 [==============================] - 11s 234ms/step - loss: 2.3284e-07 - acc: 1.0000 - val_loss: 1.4071 - val_acc: 0.8775\n",
      "Epoch 13/20\n",
      "49/49 [==============================] - 12s 248ms/step - loss: 5.3799e-08 - acc: 1.0000 - val_loss: 1.5093 - val_acc: 0.8778\n",
      "Epoch 14/20\n",
      "49/49 [==============================] - 12s 239ms/step - loss: 2.1562e-08 - acc: 1.0000 - val_loss: 1.5545 - val_acc: 0.8776\n",
      "Epoch 15/20\n",
      "49/49 [==============================] - 11s 229ms/step - loss: 1.2680e-08 - acc: 1.0000 - val_loss: 1.5866 - val_acc: 0.8772\n",
      "Epoch 16/20\n",
      "49/49 [==============================] - 12s 241ms/step - loss: 9.6058e-09 - acc: 1.0000 - val_loss: 1.6063 - val_acc: 0.8775\n",
      "Epoch 17/20\n",
      "49/49 [==============================] - 10s 215ms/step - loss: 7.5527e-09 - acc: 1.0000 - val_loss: 1.6252 - val_acc: 0.8774\n",
      "Epoch 18/20\n",
      "49/49 [==============================] - 11s 235ms/step - loss: 6.6412e-09 - acc: 1.0000 - val_loss: 1.6407 - val_acc: 0.8774\n",
      "Epoch 19/20\n",
      "49/49 [==============================] - 11s 224ms/step - loss: 5.3954e-09 - acc: 1.0000 - val_loss: 1.6512 - val_acc: 0.8774\n",
      "Epoch 20/20\n",
      "49/49 [==============================] - 11s 227ms/step - loss: 4.9140e-09 - acc: 1.0000 - val_loss: 1.6641 - val_acc: 0.8774\n"
     ]
    }
   ],
   "source": [
    "bigger_model_hist = bigger_model.fit(x_train, y_train,\n",
    "                                     epochs=20,\n",
    "                                     batch_size=512,\n",
    "                                     validation_data=(x_test,y_test))"
   ]
  },
  {
   "cell_type": "markdown",
   "metadata": {},
   "source": [
    "Let's see how the bigger network fares compared to the reference one. The dots are the validation loss values of the bigger network, and the crosses are the initial network."
   ]
  },
  {
   "cell_type": "markdown",
   "metadata": {},
   "source": [
    "**Compare the bigger model with the original one. Fill in the #TO DOs.**"
   ]
  },
  {
   "cell_type": "code",
   "execution_count": 97,
   "metadata": {},
   "outputs": [
    {
     "data": {
      "image/png": "[encoded data removed]",
      "text/plain": [
       "<Figure size 432x288 with 1 Axes>"
      ]
     },
     "metadata": {
      "needs_background": "light"
     },
     "output_type": "display_data"
    }
   ],
   "source": [
    "bigger_model_val_loss = bigger_model_hist.history['val_loss'] #TO DO: take from the history dictionary of the bigger model the validation loss\n",
    "\n",
    "plt.plot(epochs, original_val_loss, 'b+', label='Original model') #TO DO: use the original model validation loss\n",
    "plt.plot(epochs, bigger_model_val_loss, 'bo', label='Bigger model') #TO DO: use the bigger model validation loss\n",
    "plt.xlabel('Epochs')\n",
    "plt.ylabel('Validation loss')\n",
    "plt.legend()\n",
    "\n",
    "plt.show()"
   ]
  },
  {
   "cell_type": "markdown",
   "metadata": {},
   "source": [
    "**Considerations: what can you conclude from these results? Which of the two network starts to overfitting later? How are their performances?**"
   ]
  },
  {
   "cell_type": "markdown",
   "metadata": {},
   "source": [
    "The bigger network starts overfitting almost right away, after just one epoch, and overfits much more severely. Its validation loss is also more noisy."
   ]
  },
  {
   "cell_type": "markdown",
   "metadata": {},
   "source": [
    "**Compare the training loss of the bigger model and of the original one. Fill in the #TO DOs.**"
   ]
  },
  {
   "cell_type": "code",
   "execution_count": 98,
   "metadata": {},
   "outputs": [
    {
     "data": {
      "image/png": "[encoded data removed]",
      "text/plain": [
       "<Figure size 432x288 with 1 Axes>"
      ]
     },
     "metadata": {
      "needs_background": "light"
     },
     "output_type": "display_data"
    }
   ],
   "source": [
    "original_train_loss = original_hist.history['loss'] #TO DO: take from the history dictionary of the original model the training loss\n",
    "bigger_model_train_loss = bigger_model_hist.history['loss'] #TO DO: take from the history dictionary of the bigger model the training loss\n",
    "\n",
    "plt.plot(epochs, original_train_loss, 'b+', label='Original model') #TO DO: use the original model training loss\n",
    "plt.plot(epochs, bigger_model_train_loss, 'bo', label='Bigger model') #TO DO: use the smaller model training loss\n",
    "plt.xlabel('Epochs')\n",
    "plt.ylabel('Training loss')\n",
    "plt.legend()\n",
    "\n",
    "plt.show()"
   ]
  },
  {
   "cell_type": "markdown",
   "metadata": {},
   "source": [
    "**Considerations: what can you conclude from these results? How are their performances?**"
   ]
  },
  {
   "cell_type": "markdown",
   "metadata": {},
   "source": [
    "As you can see, the bigger network gets its training loss near zero very quickly. The more capacity the network has, the quicker it will be able to model the training data (resulting in a low training loss), but the more susceptible it is to overfitting (resulting in a large difference between the training and validation loss)."
   ]
  },
  {
   "cell_type": "markdown",
   "metadata": {},
   "source": [
    "## Adding weight regularization\n",
    "Given some training data and a network architecture, there are multiple sets of weights values (multiple models) that could explain the data, and simpler models are less likely to overfit than complex ones.\n",
    "\n",
    "A \"simple model\" in this context is a model where the distribution of parameter values has less entropy (or a model with fewer parameters altogether, as we saw in the section above). Thus a common way to mitigate overfitting is to put constraints on the complexity of a network by forcing its weights to only take small values, which makes the distribution of weight values more \"regular\". This is called \"weight regularization\", and it is done by adding to the loss function of the network a cost associated with having large weights. This cost comes in two ways:\n",
    "\n",
    "- L1 regularization, where the cost added is proportional to the absolute value of the weights coefficients (i.e. to what is called the \"L1 norm\" of the weights).\n",
    "- L2 regularization, where the cost added is proportional to the square of the value of the weights coefficients (i.e. to what is called the \"L2 norm\" of the weights). \n",
    "\n",
    "In Keras, weight regularization is added by passing [weight regularizer](https://keras.io/api/layers/regularizers/#layer-weight-regularizers) instances to layers as keyword arguments. Let's add L2 weight regularization to our movie review classification network."
   ]
  },
  {
   "cell_type": "markdown",
   "metadata": {},
   "source": [
    "**Consider your original network and add L2 regularizer and try out some regularization coefficient.**\n",
    "\n",
    "Example: L2 with 0.001 means that every coefficient in the weight matrix of the layer will add 0.001 * weight_coefficient_value to the total loss of the network. Note that because this penalty is only added at training time, the loss for this network will be much higher at training than at test time."
   ]
  },
  {
   "cell_type": "code",
   "execution_count": 99,
   "metadata": {},
   "outputs": [],
   "source": [
    "from keras import regularizers\n",
    "\n",
    "l2_model = models.Sequential()\n",
    "l2_model.add(layers.Dense(16, kernel_regularizer=regularizers.l2(0.001),\n",
    "                          activation='relu', input_shape=(10000,)))\n",
    "l2_model.add(layers.Dense(16, kernel_regularizer=regularizers.l2(0.001),\n",
    "                          activation='relu'))\n",
    "l2_model.add(layers.Dense(1, activation='sigmoid'))"
   ]
  },
  {
   "cell_type": "markdown",
   "metadata": {},
   "source": [
    "**Compile the network.**"
   ]
  },
  {
   "cell_type": "code",
   "execution_count": 100,
   "metadata": {},
   "outputs": [],
   "source": [
    "l2_model.compile(optimizer='rmsprop',\n",
    "                 loss='binary_crossentropy',\n",
    "                 metrics=['acc'])"
   ]
  },
  {
   "cell_type": "markdown",
   "metadata": {},
   "source": [
    "**Fit the model and check which impact your L2 regularizer has.**"
   ]
  },
  {
   "cell_type": "code",
   "execution_count": 101,
   "metadata": {},
   "outputs": [
    {
     "name": "stdout",
     "output_type": "stream",
     "text": [
      "Epoch 1/20\n",
      "49/49 [==============================] - 5s 67ms/step - loss: 0.5977 - acc: 0.7432 - val_loss: 0.3837 - val_acc: 0.8804\n",
      "Epoch 2/20\n",
      "49/49 [==============================] - 2s 45ms/step - loss: 0.3257 - acc: 0.9069 - val_loss: 0.3399 - val_acc: 0.8851\n",
      "Epoch 3/20\n",
      "49/49 [==============================] - 2s 39ms/step - loss: 0.2627 - acc: 0.9270 - val_loss: 0.3266 - val_acc: 0.8881\n",
      "Epoch 4/20\n",
      "49/49 [==============================] - 2s 40ms/step - loss: 0.2412 - acc: 0.9357 - val_loss: 0.3440 - val_acc: 0.8821\n",
      "Epoch 5/20\n",
      "49/49 [==============================] - 2s 36ms/step - loss: 0.2274 - acc: 0.9383 - val_loss: 0.3514 - val_acc: 0.8793\n",
      "Epoch 6/20\n",
      "49/49 [==============================] - 2s 33ms/step - loss: 0.2145 - acc: 0.9452 - val_loss: 0.3575 - val_acc: 0.8787\n",
      "Epoch 7/20\n",
      "49/49 [==============================] - 2s 32ms/step - loss: 0.2091 - acc: 0.9448 - val_loss: 0.3763 - val_acc: 0.8734\n",
      "Epoch 8/20\n",
      "49/49 [==============================] - 2s 36ms/step - loss: 0.2023 - acc: 0.9503 - val_loss: 0.4300 - val_acc: 0.8569\n",
      "Epoch 9/20\n",
      "49/49 [==============================] - 2s 37ms/step - loss: 0.2073 - acc: 0.9443 - val_loss: 0.3698 - val_acc: 0.8770\n",
      "Epoch 10/20\n",
      "49/49 [==============================] - 2s 36ms/step - loss: 0.1885 - acc: 0.9546 - val_loss: 0.3770 - val_acc: 0.8746\n",
      "Epoch 11/20\n",
      "49/49 [==============================] - 2s 34ms/step - loss: 0.1894 - acc: 0.9544 - val_loss: 0.3863 - val_acc: 0.8735\n",
      "Epoch 12/20\n",
      "49/49 [==============================] - 2s 33ms/step - loss: 0.1963 - acc: 0.9506 - val_loss: 0.4144 - val_acc: 0.8666\n",
      "Epoch 13/20\n",
      "49/49 [==============================] - 2s 33ms/step - loss: 0.1819 - acc: 0.9572 - val_loss: 0.4455 - val_acc: 0.8590\n",
      "Epoch 14/20\n",
      "49/49 [==============================] - 2s 33ms/step - loss: 0.1789 - acc: 0.9567 - val_loss: 0.3989 - val_acc: 0.8712\n",
      "Epoch 15/20\n",
      "49/49 [==============================] - 2s 39ms/step - loss: 0.1751 - acc: 0.9597 - val_loss: 0.4658 - val_acc: 0.8544\n",
      "Epoch 16/20\n",
      "49/49 [==============================] - 2s 37ms/step - loss: 0.1813 - acc: 0.9545 - val_loss: 0.4556 - val_acc: 0.8582\n",
      "Epoch 17/20\n",
      "49/49 [==============================] - 2s 37ms/step - loss: 0.1806 - acc: 0.9569 - val_loss: 0.4272 - val_acc: 0.8655\n",
      "Epoch 18/20\n",
      "49/49 [==============================] - 2s 34ms/step - loss: 0.1755 - acc: 0.9575 - val_loss: 0.4658 - val_acc: 0.8569\n",
      "Epoch 19/20\n",
      "49/49 [==============================] - 2s 34ms/step - loss: 0.1697 - acc: 0.9613 - val_loss: 0.4296 - val_acc: 0.8670\n",
      "Epoch 20/20\n",
      "49/49 [==============================] - 2s 34ms/step - loss: 0.1636 - acc: 0.9620 - val_loss: 0.4371 - val_acc: 0.8657\n"
     ]
    }
   ],
   "source": [
    "l2_model_hist = l2_model.fit(x_train, y_train,\n",
    "                             epochs=20,\n",
    "                             batch_size=512,\n",
    "                             validation_data=(x_test,y_test))"
   ]
  },
  {
   "cell_type": "markdown",
   "metadata": {},
   "source": [
    "**Fill in the #TO DOs to see your results in the plot.**"
   ]
  },
  {
   "cell_type": "code",
   "execution_count": 102,
   "metadata": {},
   "outputs": [
    {
     "data": {
      "image/png": "[encoded data removed]",
      "text/plain": [
       "<Figure size 432x288 with 1 Axes>"
      ]
     },
     "metadata": {
      "needs_background": "light"
     },
     "output_type": "display_data"
    }
   ],
   "source": [
    "l2_model_val_loss = l2_model_hist.history['val_loss'] #TO DO: take from the take from the history dictionary of the regularized model the validation loss\n",
    "\n",
    "plt.plot(epochs, original_val_loss, 'b+', label='Original model') #TO DO: use the original model validation loss\n",
    "plt.plot(epochs, l2_model_val_loss, 'bo', label='L2-regularized model') #TO DO: use the regularized model validation loss\n",
    "plt.xlabel('Epochs')\n",
    "plt.ylabel('Validation loss')\n",
    "plt.legend()\n",
    "\n",
    "plt.show()"
   ]
  },
  {
   "cell_type": "markdown",
   "metadata": {},
   "source": [
    "**Considerations: what can you conclude from the plot? What about the overfitting?**"
   ]
  },
  {
   "cell_type": "markdown",
   "metadata": {},
   "source": [
    "As you can see, the model with L2 regularization (dots) has become much more resistant to overfitting than the reference model (crosses), even though both models have the same number of parameters."
   ]
  },
  {
   "cell_type": "markdown",
   "metadata": {},
   "source": [
    "As alternatives to L2 regularization, you could use one of the following Keras weight regularizers:"
   ]
  },
  {
   "cell_type": "markdown",
   "metadata": {},
   "source": [
    "```` \n",
    "from keras import regularizers\n",
    "\n",
    "# L1 regularization\n",
    "regularizers.l1(0.001)\n",
    "\n",
    "# L1 and L2 regularization at the same time\n",
    "regularizers.l1_l2(l1=0.001, l2=0.001)\n",
    "```` "
   ]
  },
  {
   "cell_type": "markdown",
   "metadata": {},
   "source": [
    "## Adding dropout\n",
    "Dropout is one of the most effective and most commonly used regularization techniques for neural networks. Dropout, applied to a layer, consists of randomly \"dropping out\" (i.e. setting to zero) a number of output features of the layer during training. Let's say a given layer would normally have returned a vector [0.2, 0.5, 1.3, 0.8, 1.1] for a given input sample during training; after applying dropout, this vector will have a few zero entries distributed at random, e.g. [0, 0.5, 1.3, 0, 1.1]. The \"dropout rate\" is the fraction of the features that are being zeroed-out; it is usually set between 0.2 and 0.5. At test time, no units are dropped out, and instead the layer's output values are scaled down by a factor equal to the dropout rate, so as to balance for the fact that more units are active than at training time.\n",
    "\n",
    "Consider a Numpy matrix containing the output of a layer, layer_output, of shape (batch_size, features). At training time, we would be zero-ing out at random a fraction of the values in the matrix."
   ]
  },
  {
   "cell_type": "markdown",
   "metadata": {},
   "source": [
    "````\n",
    "# At training time: we drop out 50% of the units in the output\n",
    "#layer_output *= np.randint(0, high=2, size=layer_output.shape)\n",
    "\n",
    "batch_size = 512\n",
    "features = 10\n",
    "\n",
    "layer_output = np.array([batch_size, features])\n",
    "layer_output = np.random.randint(0, high=2, size=layer_output.shape)\n",
    "````"
   ]
  },
  {
   "cell_type": "markdown",
   "metadata": {},
   "source": [
    "At test time, we would be scaling the output down by the dropout rate. Here we scale by 0.5 (because we were previous dropping half the units):"
   ]
  },
  {
   "cell_type": "markdown",
   "metadata": {},
   "source": [
    "````\n",
    "# At test time:\n",
    "layer_output = layer_output*0.5\n",
    "````"
   ]
  },
  {
   "cell_type": "markdown",
   "metadata": {},
   "source": [
    "Note that this process can be implemented by doing both operations at training time and leaving the output unchanged at test time, which is often the way it is implemented in practice:"
   ]
  },
  {
   "cell_type": "markdown",
   "metadata": {},
   "source": [
    "````\n",
    "# At training time:\n",
    "layer_output *= np.random.randint(0, high=2, size=layer_output.shape)\n",
    "\n",
    "# Note that we are scaling *up* rather scaling *down* in this case\n",
    "layer_output /= 0.5\n",
    "````"
   ]
  },
  {
   "cell_type": "markdown",
   "metadata": {},
   "source": [
    "The core idea is that introducing noise in the output values of a layer can break up happenstance patterns that are not significant (what Hinton refers to as \"conspiracies\"), which the network would start memorizing if no noise was present."
   ]
  },
  {
   "cell_type": "markdown",
   "metadata": {},
   "source": [
    "Let's add two [Dropout layers](https://keras.io/api/layers/regularization_layers/dropout/) in our IMDB network to see how well they do at reducing overfitting:"
   ]
  },
  {
   "cell_type": "markdown",
   "metadata": {},
   "source": [
    "**Add Dropout to the original network. Where should you add the `Dropout` layers? Check Keras documentation and try to understand. Try out different value for the dropout rate.**"
   ]
  },
  {
   "cell_type": "code",
   "execution_count": 107,
   "metadata": {},
   "outputs": [],
   "source": [
    "dpt_model = models.Sequential()\n",
    "dpt_model.add(layers.Dense(16, activation='relu', input_shape=(10000,)))\n",
    "dpt_model.add(layers.Dropout(0.5))\n",
    "dpt_model.add(layers.Dense(16, activation='relu'))\n",
    "dpt_model.add(layers.Dropout(0.5))\n",
    "dpt_model.add(layers.Dense(1, activation='sigmoid'))"
   ]
  },
  {
   "cell_type": "markdown",
   "metadata": {},
   "source": [
    "**Compile the model.**"
   ]
  },
  {
   "cell_type": "code",
   "execution_count": 108,
   "metadata": {},
   "outputs": [],
   "source": [
    "dpt_model.compile(optimizer='rmsprop',\n",
    "                  loss='binary_crossentropy',\n",
    "                  metrics=['acc'])"
   ]
  },
  {
   "cell_type": "markdown",
   "metadata": {},
   "source": [
    "**Fit the model.**"
   ]
  },
  {
   "cell_type": "code",
   "execution_count": 109,
   "metadata": {},
   "outputs": [
    {
     "name": "stdout",
     "output_type": "stream",
     "text": [
      "Epoch 1/20\n",
      "49/49 [==============================] - 4s 54ms/step - loss: 0.6375 - acc: 0.6253 - val_loss: 0.4437 - val_acc: 0.8509\n",
      "Epoch 2/20\n",
      "49/49 [==============================] - 2s 34ms/step - loss: 0.4598 - acc: 0.8112 - val_loss: 0.3467 - val_acc: 0.8762\n",
      "Epoch 3/20\n",
      "49/49 [==============================] - 2s 34ms/step - loss: 0.3625 - acc: 0.8652 - val_loss: 0.2897 - val_acc: 0.8886\n",
      "Epoch 4/20\n",
      "49/49 [==============================] - 2s 37ms/step - loss: 0.3011 - acc: 0.8940 - val_loss: 0.2780 - val_acc: 0.8896\n",
      "Epoch 5/20\n",
      "49/49 [==============================] - 2s 38ms/step - loss: 0.2574 - acc: 0.9134 - val_loss: 0.2880 - val_acc: 0.8888\n",
      "Epoch 6/20\n",
      "49/49 [==============================] - 2s 40ms/step - loss: 0.2296 - acc: 0.9237 - val_loss: 0.2919 - val_acc: 0.8878\n",
      "Epoch 7/20\n",
      "49/49 [==============================] - 2s 37ms/step - loss: 0.2052 - acc: 0.9311 - val_loss: 0.3003 - val_acc: 0.8872\n",
      "Epoch 8/20\n",
      "49/49 [==============================] - 2s 33ms/step - loss: 0.1834 - acc: 0.9378 - val_loss: 0.3114 - val_acc: 0.8855\n",
      "Epoch 9/20\n",
      "49/49 [==============================] - 2s 34ms/step - loss: 0.1702 - acc: 0.9442 - val_loss: 0.3422 - val_acc: 0.8785\n",
      "Epoch 10/20\n",
      "49/49 [==============================] - 2s 34ms/step - loss: 0.1570 - acc: 0.9495 - val_loss: 0.3649 - val_acc: 0.8828\n",
      "Epoch 11/20\n",
      "49/49 [==============================] - 2s 36ms/step - loss: 0.1467 - acc: 0.9518 - val_loss: 0.3865 - val_acc: 0.8824\n",
      "Epoch 12/20\n",
      "49/49 [==============================] - 2s 34ms/step - loss: 0.1368 - acc: 0.9545 - val_loss: 0.4107 - val_acc: 0.8797\n",
      "Epoch 13/20\n",
      "49/49 [==============================] - 2s 35ms/step - loss: 0.1311 - acc: 0.9579 - val_loss: 0.4400 - val_acc: 0.8787\n",
      "Epoch 14/20\n",
      "49/49 [==============================] - 2s 34ms/step - loss: 0.1271 - acc: 0.9607 - val_loss: 0.4666 - val_acc: 0.8776\n",
      "Epoch 15/20\n",
      "49/49 [==============================] - 2s 36ms/step - loss: 0.1188 - acc: 0.9636 - val_loss: 0.4613 - val_acc: 0.8762\n",
      "Epoch 16/20\n",
      "49/49 [==============================] - 2s 36ms/step - loss: 0.1226 - acc: 0.9636 - val_loss: 0.4760 - val_acc: 0.8749\n",
      "Epoch 17/20\n",
      "49/49 [==============================] - 2s 36ms/step - loss: 0.1178 - acc: 0.9628 - val_loss: 0.5449 - val_acc: 0.8736\n",
      "Epoch 18/20\n",
      "49/49 [==============================] - 2s 36ms/step - loss: 0.1101 - acc: 0.9645 - val_loss: 0.5624 - val_acc: 0.8736\n",
      "Epoch 19/20\n",
      "49/49 [==============================] - 2s 38ms/step - loss: 0.1068 - acc: 0.9662 - val_loss: 0.6357 - val_acc: 0.8706\n",
      "Epoch 20/20\n",
      "49/49 [==============================] - 2s 34ms/step - loss: 0.1137 - acc: 0.9635 - val_loss: 0.5855 - val_acc: 0.8730\n"
     ]
    }
   ],
   "source": [
    "dpt_model_hist = dpt_model.fit(x_train, y_train,\n",
    "                               epochs=20,\n",
    "                               batch_size=512,\n",
    "                               validation_data=(x_test,y_test))"
   ]
  },
  {
   "cell_type": "markdown",
   "metadata": {},
   "source": [
    "**Fill in the #TO DOs to plot the results.**"
   ]
  },
  {
   "cell_type": "code",
   "execution_count": 110,
   "metadata": {},
   "outputs": [
    {
     "data": {
      "image/png": "[encoded data removed]",
      "text/plain": [
       "<Figure size 432x288 with 1 Axes>"
      ]
     },
     "metadata": {
      "needs_background": "light"
     },
     "output_type": "display_data"
    }
   ],
   "source": [
    "dpt_model_val_loss = dpt_model_hist.history['val_loss'] #TO DO: take from the history dictionary of the model with dropout the validation loss\n",
    "\n",
    "plt.plot(epochs, original_val_loss, 'b+', label='Original model') #TO DO: use the validation loss of the original model\n",
    "plt.plot(epochs, dpt_model_val_loss, 'bo', label='Dropout-regularized model') #TO DO: use the validation loss of the model with dropout\n",
    "plt.xlabel('Epochs')\n",
    "plt.ylabel('Validation loss')\n",
    "plt.legend()\n",
    "\n",
    "plt.show()"
   ]
  },
  {
   "cell_type": "markdown",
   "metadata": {},
   "source": [
    "**Considerations: were you able to improve?**"
   ]
  },
  {
   "cell_type": "markdown",
   "metadata": {},
   "source": [
    "Again, a clear improvement over the reference network.\n",
    "\n",
    "**To recap**: \n",
    "Here the most common ways to prevent overfitting in neural networks:\n",
    "\n",
    "- Getting more training data/ Data augmentation\n",
    "- Reducing the capacity of the network\n",
    "- Adding weight regularization\n",
    "- Adding dropout\n",
    "- Early stopping"
   ]
  },
  {
   "cell_type": "code",
   "execution_count": null,
   "metadata": {},
   "outputs": [],
   "source": []
  }
 ],
 "metadata": {
  "kernelspec": {
   "display_name": "Python 3",
   "language": "python",
   "name": "python3"
  },
  "language_info": {
   "codemirror_mode": {
    "name": "ipython",
    "version": 3
   },
   "file_extension": ".py",
   "mimetype": "text/x-python",
   "name": "python",
   "nbconvert_exporter": "python",
   "pygments_lexer": "ipython3",
   "version": "3.8.8"
  }
 },
 "nbformat": 4,
 "nbformat_minor": 2
}
